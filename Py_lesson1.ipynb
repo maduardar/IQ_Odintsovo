{
 "cells": [
  {
   "cell_type": "code",
   "execution_count": 26,
   "metadata": {
    "scrolled": true
   },
   "outputs": [
    {
     "name": "stdout",
     "output_type": "stream",
     "text": [
      "5\n",
      "Не найдено\n"
     ]
    }
   ],
   "source": [
    "a=[]\n",
    "n=1\n",
    "for i in range(0,n):\n",
    "  a.append(int(input()))\n",
    "max=-1\n",
    "for i in range(0,n):\n",
    "    if(a[i] > 9) and (a[i] < 100) and (a[i] %3!=0) and (a[i] > max):\n",
    "        max =a[i]\n",
    "if (max == -1):\n",
    "    print ('Не найдено')\n",
    "else:\n",
    "    print(max)"
   ]
  },
  {
   "cell_type": "code",
   "execution_count": 27,
   "metadata": {},
   "outputs": [
    {
     "name": "stdout",
     "output_type": "stream",
     "text": [
      "1\n",
      "4\n",
      "6\n",
      "8\n",
      "5\n",
      "6\n",
      "30\n",
      "6\n"
     ]
    }
   ],
   "source": [
    "a=[]\n",
    "n=6\n",
    "for i in range(0,n):\n",
    "  a.append(int(input()))\n",
    "s=0\n",
    "count=0\n",
    "for i in range (0,n):\n",
    "    s=s+a[i]\n",
    "    count=count+1\n",
    "print(s)\n",
    "print(count)"
   ]
  },
  {
   "cell_type": "code",
   "execution_count": 33,
   "metadata": {},
   "outputs": [
    {
     "name": "stdout",
     "output_type": "stream",
     "text": [
      "7\n",
      "6\n",
      "8\n",
      "3\n",
      "5\n",
      "7\n",
      "6\n",
      "8\n",
      "3\n"
     ]
    }
   ],
   "source": [
    "a=[]\n",
    "n=5\n",
    "for i in range(0,n):\n",
    "  a.append(int(input()))\n",
    "\n",
    "for i in range (0,n-1) :\n",
    "    print(a[i])\n",
    "k=-1\n",
    "for i in range(1,n-2):\n",
    "    if (a[i]>a[i+1]) and (a[i]>a[i-1]) and (a[i]>k):\n",
    "        k=a[i]"
   ]
  },
  {
   "cell_type": "code",
   "execution_count": 44,
   "metadata": {},
   "outputs": [
    {
     "name": "stdout",
     "output_type": "stream",
     "text": [
      "1\n",
      "2\n",
      "3\n",
      "4\n",
      "5\n",
      "0\n"
     ]
    }
   ],
   "source": [
    "a=[]\n",
    "n=5\n",
    "for i in range(0,n):\n",
    "  a.append(int(input()))\n",
    "j = 10001\n",
    "for i in range (1,n-1):\n",
    "    if (a[i]<a[i-1]) and (a[i] <a[i+1]) and (a[i] < j):\n",
    "        j=a[i]\n",
    "if j == 10001:\n",
    "    print(0)\n",
    "else:\n",
    "    print(j)"
   ]
  },
  {
   "cell_type": "code",
   "execution_count": 45,
   "metadata": {},
   "outputs": [
    {
     "name": "stdout",
     "output_type": "stream",
     "text": [
      "1\n",
      "2\n",
      "3\n",
      "4\n",
      "5\n",
      "k=  0\n"
     ]
    }
   ],
   "source": [
    "a=[]\n",
    "n=5\n",
    "for i in range(0,n):\n",
    "  a.append(int(input()))\n",
    "for i in range (0,n-1):\n",
    "    k=0\n",
    "for i in range (0,n-3):\n",
    "    if a[i]==(a[i+1]+a[i+2])/2:\n",
    "        k+=1\n",
    "print('k= ',k)"
   ]
  },
  {
   "cell_type": "code",
   "execution_count": 49,
   "metadata": {},
   "outputs": [
    {
     "name": "stdout",
     "output_type": "stream",
     "text": [
      "1\n",
      "2\n",
      "3\n",
      "6\n",
      "9\n",
      "2\n"
     ]
    }
   ],
   "source": [
    "a=[]\n",
    "n=5\n",
    "for i in range(0,n):\n",
    "  a.append(int(input()))\n",
    "k=0\n",
    "for i in range(0,n-1):\n",
    "    if (a[i]%3==0) and (a[i+1]%3==0):\n",
    "        k+=1\n",
    "print(k)\n",
    "    \n",
    "    "
   ]
  },
  {
   "cell_type": "code",
   "execution_count": null,
   "metadata": {
    "collapsed": true
   },
   "outputs": [],
   "source": []
  },
  {
   "cell_type": "code",
   "execution_count": null,
   "metadata": {
    "collapsed": true
   },
   "outputs": [],
   "source": []
  }
 ],
 "metadata": {
  "kernelspec": {
   "display_name": "Python 3",
   "language": "python",
   "name": "python3"
  },
  "language_info": {
   "codemirror_mode": {
    "name": "ipython",
    "version": 3
   },
   "file_extension": ".py",
   "mimetype": "text/x-python",
   "name": "python",
   "nbconvert_exporter": "python",
   "pygments_lexer": "ipython3",
   "version": "3.5.0"
  }
 },
 "nbformat": 4,
 "nbformat_minor": 2
}
