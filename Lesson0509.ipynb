{
 "cells": [
  {
   "cell_type": "markdown",
   "metadata": {},
   "source": [
    "# Динамическое программирование"
   ]
  },
  {
   "cell_type": "markdown",
   "metadata": {},
   "source": [
    "Ссылка на задачу https://inf-ege.sdamgia.ru/problem?id=7353"
   ]
  },
  {
   "cell_type": "code",
   "execution_count": 9,
   "metadata": {},
   "outputs": [
    {
     "name": "stdout",
     "output_type": "stream",
     "text": [
      "3\n",
      "10\n",
      "130 210\n",
      "320 140\n",
      "100 120\n",
      "400\n"
     ]
    }
   ],
   "source": [
    "N, t = int(input()), int(input())\n",
    "Sa, Sb = 0, 0\n",
    "a, b = 0, 0\n",
    "for i in range(N):\n",
    "    ab = input().split()\n",
    "    a, b = int(ab[0]), int(ab[1])\n",
    "    Sa = Sa + a\n",
    "    Sb = min(Sb + b, Sa + t)\n",
    "print(min(Sa, Sb))"
   ]
  },
  {
   "cell_type": "code",
   "execution_count": null,
   "metadata": {
    "collapsed": true
   },
   "outputs": [],
   "source": []
  }
 ],
 "metadata": {
  "kernelspec": {
   "display_name": "Python 3",
   "language": "python",
   "name": "python3"
  },
  "language_info": {
   "codemirror_mode": {
    "name": "ipython",
    "version": 3
   },
   "file_extension": ".py",
   "mimetype": "text/x-python",
   "name": "python",
   "nbconvert_exporter": "python",
   "pygments_lexer": "ipython3",
   "version": "3.5.0"
  }
 },
 "nbformat": 4,
 "nbformat_minor": 2
}
